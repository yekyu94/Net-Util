{
 "cells": [
  {
   "cell_type": "markdown",
   "metadata": {},
   "source": [
    "# DHCP"
   ]
  },
  {
   "cell_type": "markdown",
   "metadata": {},
   "source": [
    "## DHCP 원하는 IP 요청"
   ]
  },
  {
   "cell_type": "code",
   "execution_count": 1,
   "metadata": {},
   "outputs": [],
   "source": [
    "from socket import *\n",
    "from struct import pack, unpack\n",
    "from os import getpid\n",
    "from socket import AF_INET\n",
    "from socket import SOCK_RAW\n",
    "from time import time, sleep\n",
    "import random\n",
    "import threading\n",
    "import select\n",
    "import datetime, binascii"
   ]
  },
  {
   "cell_type": "markdown",
   "metadata": {},
   "source": [
    "## DHCP Request Copy"
   ]
  },
  {
   "cell_type": "code",
   "execution_count": 19,
   "metadata": {},
   "outputs": [],
   "source": [
    "ip_data = '45000148dc720000ff11de3200000000ffffffff'\n",
    "udp_data = '004400430134bb00'\n",
    "ip = 'ac1e01e6'\n",
    "dhcp_data = '01010600c5dcc89f0000000000000000000000000000000000000000784f437cfd1f0000000000000000000000000000000000000000000000000000000000000000000000000000000000000000000000000000000000000000000000000000000000000000000000000000000000000000000000000000000000000000000000000000000000000000000000000000000000000000000000000000000000000000000000000000000000000000000000000000000000000000000000000000000000000000000000000000000000000000000000000000000000000000000000000000000000000000000063825363350103370a017903060f77fc5f2c2e390205dc3d0701784f437cfd1f3204' + ip + '33040076a7000c0f596f756e67756963426f6f6b50726fff0000'\n"
   ]
  },
  {
   "cell_type": "code",
   "execution_count": 20,
   "metadata": {},
   "outputs": [
    {
     "data": {
      "text/plain": [
       "300"
      ]
     },
     "execution_count": 20,
     "metadata": {},
     "output_type": "execute_result"
    }
   ],
   "source": [
    "soc = socket(AF_INET,SOCK_DGRAM)\n",
    "soc.bind(('0.0.0.0', 68))\n",
    "packet = bytes.fromhex(dhcp_data)\n",
    "soc.sendto(packet, ('172.30.1.254', 67))"
   ]
  },
  {
   "cell_type": "code",
   "execution_count": null,
   "metadata": {},
   "outputs": [],
   "source": [
    "soc.close()"
   ]
  },
  {
   "cell_type": "markdown",
   "metadata": {},
   "source": [
    "## DHCP Discover Copy"
   ]
  },
  {
   "cell_type": "code",
   "execution_count": 25,
   "metadata": {},
   "outputs": [],
   "source": [
    "ip_data2 = '45000148dc8f0000ff11de1500000000ffffffff'\n",
    "udp_data2 = '0044004301349c43'\n",
    "dhcp_data2 = '01010600c5dcc8a20000000000000000000000000000000000000000784f437cfd1f0000000000000000000000000000000000000000000000000000000000000000000000000000000000000000000000000000000000000000000000000000000000000000000000000000000000000000000000000000000000000000000000000000000000000000000000000000000000000000000000000000000000000000000000000000000000000000000000000000000000000000000000000000000000000000000000000000000000000000000000000000000000000000000000000000000000000000000063825363350101370a017903060f77fc5f2c2e390205dc3d0701784f437cfd1f33040076a7000c0f596f756e67756963426f6f6b50726fff0000000000000000'"
   ]
  },
  {
   "cell_type": "code",
   "execution_count": 28,
   "metadata": {},
   "outputs": [
    {
     "data": {
      "text/plain": [
       "300"
      ]
     },
     "execution_count": 28,
     "metadata": {},
     "output_type": "execute_result"
    }
   ],
   "source": [
    "soc = socket(AF_INET,SOCK_DGRAM)\n",
    "soc.bind(('0.0.0.0', 68))\n",
    "packet = bytes.fromhex(dhcp_data2)\n",
    "soc.sendto(packet, ('172.30.1.254', 67))"
   ]
  },
  {
   "cell_type": "code",
   "execution_count": 30,
   "metadata": {},
   "outputs": [],
   "source": [
    "soc.close()"
   ]
  },
  {
   "cell_type": "code",
   "execution_count": null,
   "metadata": {},
   "outputs": [],
   "source": []
  },
  {
   "cell_type": "code",
   "execution_count": 21,
   "metadata": {},
   "outputs": [],
   "source": []
  }
 ],
 "metadata": {
  "kernelspec": {
   "display_name": "Python 3",
   "language": "python",
   "name": "python3"
  },
  "language_info": {
   "codemirror_mode": {
    "name": "ipython",
    "version": 3
   },
   "file_extension": ".py",
   "mimetype": "text/x-python",
   "name": "python",
   "nbconvert_exporter": "python",
   "pygments_lexer": "ipython3",
   "version": "3.7.3"
  }
 },
 "nbformat": 4,
 "nbformat_minor": 2
}
