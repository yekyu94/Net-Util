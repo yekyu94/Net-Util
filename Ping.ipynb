{
 "cells": [
  {
   "cell_type": "markdown",
   "metadata": {},
   "source": [
    "# Ping Tester"
   ]
  },
  {
   "cell_type": "code",
   "execution_count": 1,
   "metadata": {},
   "outputs": [],
   "source": [
    "from socket import *\n",
    "from struct import pack, unpack\n",
    "from os import getpid\n",
    "from socket import AF_INET\n",
    "from socket import SOCK_RAW\n",
    "from time import time, sleep\n",
    "import random\n",
    "import threading\n",
    "import select\n",
    "import datetime, binascii"
   ]
  },
  {
   "cell_type": "code",
   "execution_count": 2,
   "metadata": {},
   "outputs": [],
   "source": [
    "recvData = 0\n",
    "timer = 0"
   ]
  },
  {
   "cell_type": "code",
   "execution_count": 3,
   "metadata": {},
   "outputs": [],
   "source": [
    "def getChecksum(info):\n",
    "    info = [(int(info[i:i+4],16)) for i in range(0, len(info), 4)]\n",
    "    result = 0\n",
    "    for x in info:\n",
    "        result += x\n",
    "        if result > 0xFFFF:\n",
    "            result %= 0x10000\n",
    "            result += 1\n",
    "    result ^= 0xFFFF\n",
    "    return result"
   ]
  },
  {
   "cell_type": "code",
   "execution_count": 4,
   "metadata": {},
   "outputs": [],
   "source": [
    "def makeICMP():\n",
    "    _type = '08'\n",
    "    _code = '00'\n",
    "    _checksum = '0000'\n",
    "    _id = str(hex(getpid()))[2:]\n",
    "    _seq = '000' + str(hex(random.randrange(1,15)))[2:]\n",
    "    _realTime = hex(round(time()))[2:]\n",
    "    _tempTime = '0000'\n",
    "    _data = '08090a0b0c0d0e0f101112131415161718191a1b1c1d1e1f202122232425262728292a2b2c2d2e2f3031323334353637'\n",
    "    hex_data = _type + _code + _checksum + _id + _seq + _realTime + _tempTime + _data\n",
    "    _checksum = hex(getChecksum(hex_data))[2:]\n",
    "    result = _type + _code + _checksum + _id + _seq + _realTime + _tempTime + _data\n",
    "    return result"
   ]
  },
  {
   "cell_type": "code",
   "execution_count": 5,
   "metadata": {},
   "outputs": [],
   "source": [
    "def pong(wait_time):\n",
    "    global timer, recvData\n",
    "    icmp = getprotobyname(\"icmp\")\n",
    "    sock = socket(AF_INET, SOCK_RAW, icmp)\n",
    "    get, _, _ = select.select([sock], [], [], wait_time)\n",
    "    timer = time() - timer\n",
    "    recvData = get"
   ]
  },
  {
   "cell_type": "code",
   "execution_count": 6,
   "metadata": {},
   "outputs": [],
   "source": [
    "def ping(ipaddr):\n",
    "    soc = socket(AF_INET,SOCK_RAW,1)\n",
    "    packet = makeICMP()\n",
    "    try:\n",
    "        soc.sendto(bytes.fromhex(makeICMP()), (ipaddr, 1))\n",
    "        return True\n",
    "    except:\n",
    "        print(\"ip주소 확인필요\")\n",
    "        return False"
   ]
  },
  {
   "cell_type": "code",
   "execution_count": 9,
   "metadata": {},
   "outputs": [
    {
     "name": "stdout",
     "output_type": "stream",
     "text": [
      "182.223.216.1 \t\t ServerTime :  2019-10-30 17:46:48 \t 응답시간 :  0.0076 sec\n",
      "182.223.216.1 \t\t ServerTime :  2019-10-30 17:46:49 \t 응답시간 :  0.0069 sec\n",
      "182.223.216.1 \t\t ServerTime :  2019-10-30 17:46:50 \t 응답시간 :  0.0069 sec\n",
      "182.223.216.1 \t\t ServerTime :  2019-10-30 17:46:51 \t 응답시간 :  0.0063 sec\n",
      "182.223.216.1 \t\t ServerTime :  2019-10-30 17:46:52 \t 응답시간 :  0.0064 sec\n"
     ]
    }
   ],
   "source": [
    "if __name__ == \"__main__\":\n",
    "    global timer, recvData\n",
    "    \n",
    "    ip = '182.223.216.1'   # Input : Target IP\n",
    "    send_count = 5         # Input : Send Count\n",
    "    wait_time = 1          # Input : Wait Pong Time\n",
    "    \n",
    "    for i in range(send_count):\n",
    "        reciver = threading.Thread(target=pong, args=(wait_time,))\n",
    "        item = reciver.start()\n",
    "        timer = time()\n",
    "        if ping(ip) :\n",
    "            sleep(wait_time)\n",
    "            try:\n",
    "                recvData = binascii.b2a_hex(recvData[0].recv(1024))\n",
    "                if recvData[40:42] == b'00':\n",
    "                    serverTime = int(recvData[56:64], 16) + wait_time\n",
    "                    serverTime = datetime.datetime.fromtimestamp(serverTime).strftime('%Y-%m-%d %H:%M:%S')\n",
    "                    print(ip, \"\\t\\t ServerTime : \", serverTime, \"\\t 응답시간 : \", round(timer, 4), \"sec\")\n",
    "                elif recvData[40:44] == b'0301':\n",
    "                    addr_long = int(recvData[24:32],16)\n",
    "                    print(ip, \"\\t\\t ICMP - Destination Unreachable\\t\\t from :\", inet_ntoa(pack(\">L\", addr_long)))\n",
    "            except:\n",
    "                print(ip, \"\\t\\t 응답없음\")"
   ]
  },
  {
   "cell_type": "code",
   "execution_count": null,
   "metadata": {},
   "outputs": [],
   "source": []
  }
 ],
 "metadata": {
  "kernelspec": {
   "display_name": "Python 3",
   "language": "python",
   "name": "python3"
  },
  "language_info": {
   "codemirror_mode": {
    "name": "ipython",
    "version": 3
   },
   "file_extension": ".py",
   "mimetype": "text/x-python",
   "name": "python",
   "nbconvert_exporter": "python",
   "pygments_lexer": "ipython3",
   "version": "3.7.3"
  }
 },
 "nbformat": 4,
 "nbformat_minor": 2
}
